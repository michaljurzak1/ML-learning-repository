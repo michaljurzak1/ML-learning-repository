{
 "cells": [
  {
   "cell_type": "markdown",
   "id": "40e61901-e738-4ae3-9521-997d43c23fec",
   "metadata": {},
   "source": [
    "# A MNIST classification project\n",
    "MNIST is a popular dataset containing many handwritten digits. The goal is to teach a model to recognize the digits. This notebook follows the book Hands-On Machine Learning chapter 3."
   ]
  },
  {
   "cell_type": "markdown",
   "id": "8e3f393c-f577-43b2-9783-5467a7bc18dd",
   "metadata": {},
   "source": [
    "## Setup\n",
    "Firstly, let us import useful libraries and configure matplotlib for visualization."
   ]
  },
  {
   "cell_type": "code",
   "execution_count": 4,
   "id": "c122809d-91cc-4c10-81dd-d090061389b6",
   "metadata": {},
   "outputs": [],
   "source": [
    "import sys\n",
    "import sklearn\n",
    "import numpy as np\n",
    "import os\n",
    "\n",
    "IS_COLAB = \"google.colab\" in sys.modules\n",
    "IS_KAGGLE = \"kaggle_secrets\" in sys.modules\n",
    "\n",
    "np.random.seed(42)\n",
    "\n",
    "%matplotlib inline\n",
    "import matplotlib as mpl\n",
    "import matplotlib.pyplot as plt\n",
    "# change runtime configuration defaults\n",
    "mpl.rc('axes', labelsize=14)\n",
    "mpl.rc('xtick', labelsize=12)\n",
    "mpl.rc('ytick', labelsize=12)\n",
    "\n",
    "# where to save the figures from the dataset\n",
    "PROJECT_ROOT_DIR = \".\"\n",
    "CHAPTER_ID = \"classification\"\n",
    "IMAGES_PATH = os.path.join(PROJECT_ROOT_DIR, \"images\", CHAPTER_ID)\n",
    "os.makedirs(IMAGES_PATH, exist_ok=True)\n",
    "\n",
    "def save_fig(fig_id, tight_layout=True, fig_extension=\"png\", resolution=300):\n",
    "    path = os.path.join(IMAGES_PATH, fig_id + \".\" + fig_extension)\n",
    "    print(\"Saving figure\", fig_id)\n",
    "    if tight_layout:\n",
    "        plt.tight_layout()\n",
    "    plt.savefig(path, format=fig_extension, dpi=resolution)"
   ]
  },
  {
   "cell_type": "markdown",
   "id": "8621f7be-6fe1-457a-b4f9-8fda48e661e5",
   "metadata": {},
   "source": [
    "## MNIST\n",
    "Let's import the dataset from sklearn."
   ]
  },
  {
   "cell_type": "code",
   "execution_count": 3,
   "id": "7e413a3a-028b-47be-80b0-0d973d4e4625",
   "metadata": {},
   "outputs": [
    {
     "name": "stderr",
     "output_type": "stream",
     "text": [
      "C:\\Users\\juziu\\AppData\\Local\\Programs\\Python\\Python311\\Lib\\site-packages\\sklearn\\datasets\\_openml.py:968: FutureWarning: The default value of `parser` will change from `'liac-arff'` to `'auto'` in 1.4. You can set `parser='auto'` to silence this warning. Therefore, an `ImportError` will be raised from 1.4 if the dataset is dense and pandas is not installed. Note that the pandas parser may return different data types. See the Notes Section in fetch_openml's API doc for details.\n",
      "  warn(\n"
     ]
    },
    {
     "data": {
      "text/plain": [
       "dict_keys(['data', 'target', 'frame', 'categories', 'feature_names', 'target_names', 'DESCR', 'details', 'url'])"
      ]
     },
     "execution_count": 3,
     "metadata": {},
     "output_type": "execute_result"
    }
   ],
   "source": [
    "from sklearn.datasets import fetch_openml\n",
    "mnist = fetch_openml('mnist_784', version=1, as_frame=False)\n",
    "mnist.keys()"
   ]
  },
  {
   "cell_type": "code",
   "execution_count": 5,
   "id": "12624267-494b-4700-afe4-c878bff5b4ed",
   "metadata": {},
   "outputs": [
    {
     "data": {
      "text/plain": [
       "(70000, 784)"
      ]
     },
     "execution_count": 5,
     "metadata": {},
     "output_type": "execute_result"
    }
   ],
   "source": [
    "X, y = mnist[\"data\"], mnist[\"target\"]\n",
    "X.shape"
   ]
  },
  {
   "cell_type": "code",
   "execution_count": 6,
   "id": "636aece3-6c98-4841-9259-8f18eb701a6e",
   "metadata": {},
   "outputs": [
    {
     "data": {
      "text/plain": [
       "(70000,)"
      ]
     },
     "execution_count": 6,
     "metadata": {},
     "output_type": "execute_result"
    }
   ],
   "source": [
    "y.shape"
   ]
  },
  {
   "cell_type": "markdown",
   "id": "40e58da8-010c-4b07-af6a-665902e366d4",
   "metadata": {},
   "source": [
    "There are 70,000 positions in this dataset and each image jas 784 features (2 dimentional dataset). These pictures are in grayscale, thus the 784 means basically 28x28 resolution where each pixel is represented with value from 0 to 255. we can see an individual image by reshaping it to 28x28 and plot it."
   ]
  },
  {
   "cell_type": "code",
   "execution_count": 8,
   "id": "52170dcf-94f4-4a5c-b251-bc7ab91fc327",
   "metadata": {},
   "outputs": [
    {
     "data": {
      "image/png": "[encoded data removed]",
      "text/plain": [
       "<Figure size 640x480 with 1 Axes>"
      ]
     },
     "metadata": {},
     "output_type": "display_data"
    }
   ],
   "source": [
    "some_digit = X[0]\n",
    "some_digit_image = some_digit.reshape(28, 28)\n",
    "plt.imshow(some_digit_image, cmap = mpl.cm.binary, interpolation=\"nearest\")\n",
    "plt.axis(\"off\") # turns off axis labels\n",
    "plt.show()"
   ]
  },
  {
   "cell_type": "code",
   "execution_count": 9,
   "id": "e3cea6e2-8b02-45fb-8cda-38a7122d2aa2",
   "metadata": {},
   "outputs": [
    {
     "data": {
      "text/plain": [
       "'5'"
      ]
     },
     "execution_count": 9,
     "metadata": {},
     "output_type": "execute_result"
    }
   ],
   "source": [
    "y[0]"
   ]
  },
  {
   "cell_type": "markdown",
   "id": "9d1db6b4-4827-4890-b512-4c0ee39fb2d1",
   "metadata": {},
   "source": [
    "We can see that the image looks like 5, and indeed the label confirms that. Label is string so let's change it to numbers."
   ]
  },
  {
   "cell_type": "code",
   "execution_count": 10,
   "id": "8937172f-2cef-4c99-8afc-513ea23ea93e",
   "metadata": {},
   "outputs": [],
   "source": [
    "y = y.astype(np.uint8)"
   ]
  },
  {
   "cell_type": "markdown",
   "id": "3d11ef3e-c3df-4347-acef-4ae921bfcadc",
   "metadata": {},
   "source": [
    "As this set is already prepared for training and splitting (first 60,000 are for training and last 10,000 are for testing) let's just divide this dataset."
   ]
  },
  {
   "cell_type": "code",
   "execution_count": 12,
   "id": "f8482072-7892-42d1-9403-159818fb2eed",
   "metadata": {},
   "outputs": [],
   "source": [
    "X_train, X_test, y_train, y_test = X[:60000], X[60000:], y[:60000], y[60000:]"
   ]
  },
  {
   "cell_type": "markdown",
   "id": "40b8792d-a211-4756-bb3f-3170c02c80d4",
   "metadata": {},
   "source": [
    "## Binary classifier\n",
    "We can now start slowly and train a model to detect only one digit e.g. only 3. Let's try *Stochastic Gradient Decent* (SGD)."
   ]
  },
  {
   "cell_type": "code",
   "execution_count": 24,
   "id": "1053adff-ba1e-4e1c-9dfa-ed239415979a",
   "metadata": {},
   "outputs": [
    {
     "data": {
      "text/plain": [
       "array([False, False, False, False, False, False, False,  True, False,\n",
       "       False,  True])"
      ]
     },
     "execution_count": 24,
     "metadata": {},
     "output_type": "execute_result"
    }
   ],
   "source": [
    "y_train_3 = (y_train == 3)\n",
    "y_test_3 = (y_test == 3)\n",
    "y_train_3[:11]"
   ]
  },
  {
   "cell_type": "code",
   "execution_count": 15,
   "id": "42f4bd6f-44cc-4bcf-85df-85bcaf800e5f",
   "metadata": {},
   "outputs": [
    {
     "data": {
      "text/html": [
       "<style>#sk-container-id-1 {color: black;background-color: white;}#sk-container-id-1 pre{padding: 0;}#sk-container-id-1 div.sk-toggleable {background-color: white;}#sk-container-id-1 label.sk-toggleable__label {cursor: pointer;display: block;width: 100%;margin-bottom: 0;padding: 0.3em;box-sizing: border-box;text-align: center;}#sk-container-id-1 label.sk-toggleable__label-arrow:before {content: \"▸\";float: left;margin-right: 0.25em;color: #696969;}#sk-container-id-1 label.sk-toggleable__label-arrow:hover:before {color: black;}#sk-container-id-1 div.sk-estimator:hover label.sk-toggleable__label-arrow:before {color: black;}#sk-container-id-1 div.sk-toggleable__content {max-height: 0;max-width: 0;overflow: hidden;text-align: left;background-color: #f0f8ff;}#sk-container-id-1 div.sk-toggleable__content pre {margin: 0.2em;color: black;border-radius: 0.25em;background-color: #f0f8ff;}#sk-container-id-1 input.sk-toggleable__control:checked~div.sk-toggleable__content {max-height: 200px;max-width: 100%;overflow: auto;}#sk-container-id-1 input.sk-toggleable__control:checked~label.sk-toggleable__label-arrow:before {content: \"▾\";}#sk-container-id-1 div.sk-estimator input.sk-toggleable__control:checked~label.sk-toggleable__label {background-color: #d4ebff;}#sk-container-id-1 div.sk-label input.sk-toggleable__control:checked~label.sk-toggleable__label {background-color: #d4ebff;}#sk-container-id-1 input.sk-hidden--visually {border: 0;clip: rect(1px 1px 1px 1px);clip: rect(1px, 1px, 1px, 1px);height: 1px;margin: -1px;overflow: hidden;padding: 0;position: absolute;width: 1px;}#sk-container-id-1 div.sk-estimator {font-family: monospace;background-color: #f0f8ff;border: 1px dotted black;border-radius: 0.25em;box-sizing: border-box;margin-bottom: 0.5em;}#sk-container-id-1 div.sk-estimator:hover {background-color: #d4ebff;}#sk-container-id-1 div.sk-parallel-item::after {content: \"\";width: 100%;border-bottom: 1px solid gray;flex-grow: 1;}#sk-container-id-1 div.sk-label:hover label.sk-toggleable__label {background-color: #d4ebff;}#sk-container-id-1 div.sk-serial::before {content: \"\";position: absolute;border-left: 1px solid gray;box-sizing: border-box;top: 0;bottom: 0;left: 50%;z-index: 0;}#sk-container-id-1 div.sk-serial {display: flex;flex-direction: column;align-items: center;background-color: white;padding-right: 0.2em;padding-left: 0.2em;position: relative;}#sk-container-id-1 div.sk-item {position: relative;z-index: 1;}#sk-container-id-1 div.sk-parallel {display: flex;align-items: stretch;justify-content: center;background-color: white;position: relative;}#sk-container-id-1 div.sk-item::before, #sk-container-id-1 div.sk-parallel-item::before {content: \"\";position: absolute;border-left: 1px solid gray;box-sizing: border-box;top: 0;bottom: 0;left: 50%;z-index: -1;}#sk-container-id-1 div.sk-parallel-item {display: flex;flex-direction: column;z-index: 1;position: relative;background-color: white;}#sk-container-id-1 div.sk-parallel-item:first-child::after {align-self: flex-end;width: 50%;}#sk-container-id-1 div.sk-parallel-item:last-child::after {align-self: flex-start;width: 50%;}#sk-container-id-1 div.sk-parallel-item:only-child::after {width: 0;}#sk-container-id-1 div.sk-dashed-wrapped {border: 1px dashed gray;margin: 0 0.4em 0.5em 0.4em;box-sizing: border-box;padding-bottom: 0.4em;background-color: white;}#sk-container-id-1 div.sk-label label {font-family: monospace;font-weight: bold;display: inline-block;line-height: 1.2em;}#sk-container-id-1 div.sk-label-container {text-align: center;}#sk-container-id-1 div.sk-container {/* jupyter's `normalize.less` sets `[hidden] { display: none; }` but bootstrap.min.css set `[hidden] { display: none !important; }` so we also need the `!important` here to be able to override the default hidden behavior on the sphinx rendered scikit-learn.org. See: https://github.com/scikit-learn/scikit-learn/issues/21755 */display: inline-block !important;position: relative;}#sk-container-id-1 div.sk-text-repr-fallback {display: none;}</style><div id=\"sk-container-id-1\" class=\"sk-top-container\"><div class=\"sk-text-repr-fallback\"><pre>SGDClassifier(random_state=42)</pre><b>In a Jupyter environment, please rerun this cell to show the HTML representation or trust the notebook. <br />On GitHub, the HTML representation is unable to render, please try loading this page with nbviewer.org.</b></div><div class=\"sk-container\" hidden><div class=\"sk-item\"><div class=\"sk-estimator sk-toggleable\"><input class=\"sk-toggleable__control sk-hidden--visually\" id=\"sk-estimator-id-1\" type=\"checkbox\" checked><label for=\"sk-estimator-id-1\" class=\"sk-toggleable__label sk-toggleable__label-arrow\">SGDClassifier</label><div class=\"sk-toggleable__content\"><pre>SGDClassifier(random_state=42)</pre></div></div></div></div></div>"
      ],
      "text/plain": [
       "SGDClassifier(random_state=42)"
      ]
     },
     "execution_count": 15,
     "metadata": {},
     "output_type": "execute_result"
    }
   ],
   "source": [
    "from sklearn.linear_model import SGDClassifier\n",
    "\n",
    "sgd_clf = SGDClassifier(max_iter=1000, tol=1e-3, random_state=42)\n",
    "sgd_clf.fit(X_train, y_train_3)"
   ]
  },
  {
   "cell_type": "code",
   "execution_count": 17,
   "id": "78f97427-d7a5-4e23-b6b7-a3d50f58b300",
   "metadata": {},
   "outputs": [
    {
     "data": {
      "text/plain": [
       "array([False])"
      ]
     },
     "execution_count": 17,
     "metadata": {},
     "output_type": "execute_result"
    }
   ],
   "source": [
    "sgd_clf.predict([some_digit]) # this is the first of the dataset which is 5"
   ]
  },
  {
   "cell_type": "code",
   "execution_count": 27,
   "id": "aabfea84-0158-4928-ab8f-c6db61b64298",
   "metadata": {},
   "outputs": [
    {
     "name": "stdout",
     "output_type": "stream",
     "text": [
      "[False] [ True]\n",
      "3 3\n"
     ]
    }
   ],
   "source": [
    "print(sgd_clf.predict([X[7]]), sgd_clf.predict([X[10]]))\n",
    "print(y[7], y[10])"
   ]
  },
  {
   "cell_type": "markdown",
   "id": "d21a6a4f-fd91-4955-b8e1-79690beef7ca",
   "metadata": {},
   "source": [
    "Looks like here the model classifies some right, some wrong. Let's evaluate"
   ]
  },
  {
   "cell_type": "markdown",
   "id": "b9891f0c-2814-4603-a19e-089e0da9a83b",
   "metadata": {},
   "source": [
    "## Measuring performance\n",
    "This is not as easy task as regression, so we have to learn new concepts."
   ]
  },
  {
   "cell_type": "markdown",
   "id": "876bb3b4-61e6-445f-93d1-bf77d3c4c4ad",
   "metadata": {},
   "source": [
    "### Cross Validation\n",
    "We can implement our own cross validation using StratifiedKFold from sklearn"
   ]
  },
  {
   "cell_type": "code",
   "execution_count": 38,
   "id": "a834c24f-6988-4162-95af-9861a4e4c6a3",
   "metadata": {},
   "outputs": [
    {
     "name": "stdout",
     "output_type": "stream",
     "text": [
      "0.9505\n",
      "0.9649\n",
      "0.9687\n"
     ]
    }
   ],
   "source": [
    "from sklearn.model_selection import StratifiedKFold\n",
    "from sklearn.base import clone\n",
    "skfolds = StratifiedKFold(n_splits=3, shuffle=True, random_state=42)\n",
    "\n",
    "for train_index, test_index in skfolds.split(X_train, y_train_3):\n",
    "    clone_clf = clone(sgd_clf)\n",
    "    X_train_folds = X_train[train_index]\n",
    "    X_test_fold = X_train[test_index]\n",
    "    y_train_folds = y_train_3[train_index]\n",
    "    y_test_fold = y_train_3[test_index]\n",
    "    \n",
    "    clone_clf.fit(X_train_folds, y_train_folds)\n",
    "    y_pred = clone_clf.predict(X_test_fold)\n",
    "    n_corr = sum(y_pred==y_test_fold)\n",
    "    print(n_corr / len(y_pred))"
   ]
  },
  {
   "cell_type": "markdown",
   "id": "2f3a80d2-fa3e-433e-bb11-9c23f91b132b",
   "metadata": {},
   "source": [
    "Let's use built-in function for cross-validation."
   ]
  },
  {
   "cell_type": "code",
   "execution_count": 40,
   "id": "26e99aa3-28a3-4285-a137-3031d049ae94",
   "metadata": {},
   "outputs": [
    {
     "data": {
      "text/plain": [
       "array([0.9496 , 0.9624 , 0.96275])"
      ]
     },
     "execution_count": 40,
     "metadata": {},
     "output_type": "execute_result"
    }
   ],
   "source": [
    "from sklearn.model_selection import cross_val_score\n",
    "cross_val_score(sgd_clf, X_train, y_train_3, cv=3, scoring=\"accuracy\")"
   ]
  },
  {
   "cell_type": "markdown",
   "id": "bfee85a6-3322-49c2-8735-361b32e9e3f5",
   "metadata": {},
   "source": [
    "Due to the slight randomness the scores vary slightly, though the overall score is above 94%. Well let's just make a classifier that always tells \"not a 3\", i.e. always 0."
   ]
  },
  {
   "cell_type": "code",
   "execution_count": 45,
   "id": "7e2b4771-d8dc-482f-a760-852179532ea5",
   "metadata": {},
   "outputs": [],
   "source": [
    "from sklearn.base import BaseEstimator\n",
    "class Never3Classifier(BaseEstimator):\n",
    "    def fit(self, X, y=None):\n",
    "        pass\n",
    "    def predict(self, X):\n",
    "        return np.zeros((len(X), 1), dtype=bool)"
   ]
  },
  {
   "cell_type": "code",
   "execution_count": 46,
   "id": "42df8c29-3b35-4c65-989a-93a4228c7925",
   "metadata": {},
   "outputs": [
    {
     "data": {
      "text/plain": [
       "array([0.8962 , 0.89975, 0.8975 ])"
      ]
     },
     "execution_count": 46,
     "metadata": {},
     "output_type": "execute_result"
    }
   ],
   "source": [
    "never_3_clf = Never3Classifier()\n",
    "cross_val_score(never_3_clf, X_train, y_train_3, cv=3, scoring=\"accuracy\")"
   ]
  },
  {
   "cell_type": "markdown",
   "id": "0aef05a9-bb16-4180-b295-faebad0bc3f9",
   "metadata": {},
   "source": [
    "The accuracy is still substancially high, about 90%. That's because there are about 10% of images of 3s.  \n",
    "Thus, accuracy is generally not desired in classification tasks."
   ]
  },
  {
   "cell_type": "markdown",
   "id": "f0dff428-2d5a-4d50-a327-fb77a3b774e0",
   "metadata": {},
   "source": [
    "### Confusion Matrix\n",
    "A better way to evaluate performance is to look at the *confusion matrix*. The idea is to count the number of times classifier confused for example 3 with 6. The matrix creates this for every confused instance (every other than 3 number)."
   ]
  },
  {
   "cell_type": "code",
   "execution_count": 48,
   "id": "c5caaeed-e2f9-4430-9a98-506983b27b96",
   "metadata": {},
   "outputs": [],
   "source": [
    "from sklearn.model_selection import cross_val_predict\n",
    "y_train_pred = cross_val_predict(sgd_clf, X_train, y_train_3, cv=3)"
   ]
  },
  {
   "cell_type": "markdown",
   "id": "7ea525b6-a918-4840-9b49-f02370dd5316",
   "metadata": {},
   "source": [
    "The *cross_val_predict* function performs the cross-validation, but it returns predictions that were made on each test fold."
   ]
  },
  {
   "cell_type": "code",
   "execution_count": 50,
   "id": "1a1e6c74-41ee-407d-b15c-df48946248a9",
   "metadata": {},
   "outputs": [
    {
     "data": {
      "text/plain": [
       "array([[53477,   392],\n",
       "       [ 2113,  4018]], dtype=int64)"
      ]
     },
     "execution_count": 50,
     "metadata": {},
     "output_type": "execute_result"
    }
   ],
   "source": [
    "from sklearn.metrics import confusion_matrix\n",
    "confusion_matrix(y_train_3, y_train_pred)"
   ]
  },
  {
   "cell_type": "markdown",
   "id": "c9711b13-ff8a-4258-b274-8954ffa28d5d",
   "metadata": {},
   "source": [
    "Now the rows represent each **actual** class (in this case 1st row is *True* and 2nd is *False*).  \n",
    "The columns however represent **predicted** class (in this case 1st column is *True* and 2nd is *False*)."
   ]
  },
  {
   "cell_type": "markdown",
   "id": "2e0a529e-22cf-4c04-8c18-5986a9d6e488",
   "metadata": {},
   "source": [
    "In this matrix, the first row represents other numbers than 3 (**negative** class), and second - the number 3 (**positive** class).  \n",
    "In the negative class the wrong predictions we consider *false negative*,  \n",
    "in the positive class, *false positive*."
   ]
  },
  {
   "cell_type": "markdown",
   "id": "41017a38-341d-4130-bd2a-577196ad01f6",
   "metadata": {},
   "source": [
    "### Precision and recall\n",
    "We may consider a different metric (concise), that is a single number. Precision and Recall are both ratios, depending on what we want to measure.  \n",
    "If the number of precisely caught positives, than **precision** is the right choice.\n",
    "The ratio of caught positives and all instances of this class is showed by **recall**.  \n",
    "Combining both is used in F1 score (harmonic mean)."
   ]
  },
  {
   "cell_type": "code",
   "execution_count": 51,
   "id": "9e63abfb-d658-4408-b6f6-457746529081",
   "metadata": {},
   "outputs": [
    {
     "name": "stdout",
     "output_type": "stream",
     "text": [
      "0.9111111111111111\n",
      "0.655358016636764\n"
     ]
    }
   ],
   "source": [
    "from sklearn.metrics import precision_score, recall_score\n",
    "print(precision_score(y_train_3, y_train_pred))\n",
    "print(recall_score(y_train_3, y_train_pred))"
   ]
  },
  {
   "cell_type": "markdown",
   "id": "f92097d5-a066-4984-969b-13f7e5de03de",
   "metadata": {},
   "source": [
    "This is definitely not the best score, though it seems like the 3-detector has not the best idea of how 3 looks like, but if it knows, it has a high chance it identified a 3 properly. It identifies 3s 65.5% of times and the correctness is at the level of 91%.  \n",
    "We can now combine them and see the F1 score."
   ]
  },
  {
   "cell_type": "code",
   "execution_count": 53,
   "id": "e8761c5f-1adf-49f2-a524-d0f423f925d8",
   "metadata": {},
   "outputs": [
    {
     "data": {
      "text/plain": [
       "0.7623565126648326"
      ]
     },
     "execution_count": 53,
     "metadata": {},
     "output_type": "execute_result"
    }
   ],
   "source": [
    "from sklearn.metrics import f1_score\n",
    "f1_score(y_train_3, y_train_pred)"
   ]
  },
  {
   "cell_type": "markdown",
   "id": "a89ada09-498b-4b15-a9df-7bbf8b47b650",
   "metadata": {},
   "source": [
    "The f1 score is definitely not the most precise metric, but it gives an overall idea. The precision and recall importance vary depending on a situation, where you can accept more false positives, but catch every possible instance, or in a situation where you can pass many good ones, though you need the highest confidence of correctness.  \n",
    "Unfortunately you can't have both good parameters if other methods are not effective, you need to make a tradeof more often than not."
   ]
  },
  {
   "cell_type": "markdown",
   "id": "af74ba20-1a3b-42a8-8b23-ad3e6d7944b3",
   "metadata": {},
   "source": [
    "### Precision/Recall Tradeoff\n",
    "In scikit-learn we can call decision_function() that returns a score for each instance and makes predictions using a threshold you want."
   ]
  },
  {
   "cell_type": "code",
   "execution_count": 59,
   "id": "9702d79d-b90e-48db-bf81-e566b733df51",
   "metadata": {},
   "outputs": [
    {
     "data": {
      "text/plain": [
       "array([1378.05599034])"
      ]
     },
     "execution_count": 59,
     "metadata": {},
     "output_type": "execute_result"
    }
   ],
   "source": [
    "y_scores = sgd_clf.decision_function([X[10]])\n",
    "y_scores"
   ]
  },
  {
   "cell_type": "code",
   "execution_count": 61,
   "id": "51c888f3-da34-48af-84ed-3f6f878059cf",
   "metadata": {},
   "outputs": [
    {
     "data": {
      "text/plain": [
       "array([ True])"
      ]
     },
     "execution_count": 61,
     "metadata": {},
     "output_type": "execute_result"
    }
   ],
   "source": [
    "threshold = 0\n",
    "y_some_digit_pred = (y_scores > threshold)\n",
    "y_some_digit_pred"
   ]
  },
  {
   "cell_type": "markdown",
   "id": "ac61febe-034a-480e-b8cc-5691c1a805da",
   "metadata": {},
   "source": [
    "SGDClassifier by default uses a threshold 0 and we can either raise or lower it."
   ]
  },
  {
   "cell_type": "code",
   "execution_count": 62,
   "id": "071e2e83-6560-4bc7-a098-a72d36c5eb16",
   "metadata": {},
   "outputs": [
    {
     "data": {
      "text/plain": [
       "array([False])"
      ]
     },
     "execution_count": 62,
     "metadata": {},
     "output_type": "execute_result"
    }
   ],
   "source": [
    "threshold = 2000\n",
    "y_some_digit_pred = (y_scores > threshold)\n",
    "y_some_digit_pred"
   ]
  },
  {
   "cell_type": "markdown",
   "id": "9c35141e-048b-435f-b6fb-d75f9cf62a72",
   "metadata": {},
   "source": [
    "Raising threshold decreases recall and lowers precision and vice versa.  \n",
    "How to decide what threshold to set? There is a way to compute precision and recall for all possible thresholds using precision_recall_curve()"
   ]
  },
  {
   "cell_type": "markdown",
   "id": "e7535ba6-2670-4c76-b28d-4f1450c3eb74",
   "metadata": {},
   "source": [
    "Firstly, compute all scores for the dataset."
   ]
  },
  {
   "cell_type": "code",
   "execution_count": 64,
   "id": "fab20cf1-c49d-47b2-94fa-5f691f429fce",
   "metadata": {},
   "outputs": [],
   "source": [
    "y_scores = cross_val_predict(sgd_clf, X_train, y_train_3, cv=3,\n",
    "method=\"decision_function\")"
   ]
  },
  {
   "cell_type": "markdown",
   "id": "9fff8f6a-98dd-45d6-a6a8-393a871e0ed5",
   "metadata": {},
   "source": [
    "Then, call the function."
   ]
  },
  {
   "cell_type": "code",
   "execution_count": 65,
   "id": "73601a99-acf0-442a-ae7a-71b5ed480e6b",
   "metadata": {},
   "outputs": [],
   "source": [
    "from sklearn.metrics import precision_recall_curve\n",
    "\n",
    "precisions, recalls, thresholds = precision_recall_curve(y_train_3, y_scores)"
   ]
  },
  {
   "cell_type": "markdown",
   "id": "6273804b-7184-4215-b4c0-af361480c9cf",
   "metadata": {},
   "source": [
    "Now, plot the results."
   ]
  },
  {
   "cell_type": "code",
   "execution_count": 73,
   "id": "dbf82e8d-e8f0-4443-ae93-010980ee8362",
   "metadata": {},
   "outputs": [
    {
     "data": {
      "image/png": "[encoded data removed]",
      "text/plain": [
       "<Figure size 800x400 with 1 Axes>"
      ]
     },
     "metadata": {},
     "output_type": "display_data"
    }
   ],
   "source": [
    "def plot_precision_recall_vs_threshold(precisions, recalls, thresholds):\n",
    "    plt.plot(thresholds, precisions[:-1], \"b--\", label=\"precision\")\n",
    "    plt.plot(thresholds, recalls[:-1], \"g--\", label=\"recalls\")\n",
    "    plt.xlabel(\"Threshold\")\n",
    "    plt.legend(loc=\"center right\")\n",
    "    plt.grid(True)\n",
    "    plt.axis([-20000, 20000, 0, 1])\n",
    "    \n",
    "plt.figure(figsize=(8, 4))                                                                  \n",
    "plot_precision_recall_vs_threshold(precisions, recalls, thresholds)\n",
    "plt.show()"
   ]
  },
  {
   "cell_type": "markdown",
   "id": "ad612643-33d3-4d44-b03b-aac3f54de498",
   "metadata": {},
   "source": [
    "To see the precision/recall tradeoff we can plot them directly to each other."
   ]
  },
  {
   "cell_type": "code",
   "execution_count": 75,
   "id": "ce4758d2-9d6c-48dd-8cf1-e05f22215bf1",
   "metadata": {},
   "outputs": [
    {
     "data": {
      "image/png": "[encoded data removed]",
      "text/plain": [
       "<Figure size 400x300 with 1 Axes>"
      ]
     },
     "metadata": {},
     "output_type": "display_data"
    }
   ],
   "source": [
    "def plot_precision_vs_recall(precisions, recalls):\n",
    "    plt.plot(recalls, precisions, \"b-\", linewidth=2)\n",
    "    plt.xlabel(\"Recall\", fontsize=16)\n",
    "    plt.ylabel(\"Precision\", fontsize=16)\n",
    "    plt.axis([0, 1, 0, 1])\n",
    "    plt.grid(True)\n",
    "\n",
    "plt.figure(figsize=(4, 3))\n",
    "\n",
    "plot_precision_vs_recall(precisions, recalls)\n",
    "plt.show()"
   ]
  },
  {
   "cell_type": "markdown",
   "id": "42637723-8352-4f50-a1e8-6d9ba23c1447",
   "metadata": {},
   "source": [
    "We can decide we want 75% precision, but to be precise we can search for the lowest threshold that can give us this result. (np.argmax() - gives first index of the maximum value)"
   ]
  },
  {
   "cell_type": "code",
   "execution_count": 78,
   "id": "457618a8-6d0a-47b4-9397-c2379b395853",
   "metadata": {},
   "outputs": [
    {
     "data": {
      "text/plain": [
       "-3787.7891191451854"
      ]
     },
     "execution_count": 78,
     "metadata": {},
     "output_type": "execute_result"
    }
   ],
   "source": [
    "threshold_75_precision = thresholds[np.argmax(precisions >= 0.75)]\n",
    "threshold_75_precision"
   ]
  },
  {
   "cell_type": "markdown",
   "id": "fc74ead8-d014-4efa-9653-7f2ea8cb28bd",
   "metadata": {},
   "source": [
    "Now to make predictions we use predict() method."
   ]
  },
  {
   "cell_type": "code",
   "execution_count": 79,
   "id": "9836df47-98b8-41a0-92ef-94368b0bc248",
   "metadata": {},
   "outputs": [
    {
     "name": "stdout",
     "output_type": "stream",
     "text": [
      "0.7500375093773444\n",
      "0.8153645408579351\n"
     ]
    }
   ],
   "source": [
    "y_train_pred_75 = (y_scores >= threshold_75_precision)\n",
    "print(precision_score(y_train_3, y_train_pred_75))\n",
    "print(recall_score(y_train_3, y_train_pred_75))"
   ]
  },
  {
   "cell_type": "markdown",
   "id": "257acf83-2c9b-4056-a667-6a5095e7d3f7",
   "metadata": {},
   "source": [
    "### The ROC curve\n",
    "#### Receiver operating characteristic\n",
    "is a common tool used with binary classifiers. ROC plots *true positive rate* (recall) against *false positive rate*."
   ]
  },
  {
   "cell_type": "code",
   "execution_count": 81,
   "id": "ec730bad-fbcf-4017-8fab-e800f4c83d2b",
   "metadata": {},
   "outputs": [],
   "source": [
    "from sklearn.metrics import roc_curve\n",
    "\n",
    "fpr, tpr, thresholds = roc_curve(y_train_3, y_scores)"
   ]
  },
  {
   "cell_type": "markdown",
   "id": "6ee3bccb-a77c-4d92-b613-e61133214253",
   "metadata": {},
   "source": [
    "Let's plot the ROC."
   ]
  },
  {
   "cell_type": "code",
   "execution_count": 85,
   "id": "8c31f621-1247-44f7-824e-12e795d76ef5",
   "metadata": {},
   "outputs": [
    {
     "data": {
      "image/png": "[encoded data removed]",
      "text/plain": [
       "<Figure size 640x480 with 1 Axes>"
      ]
     },
     "metadata": {},
     "output_type": "display_data"
    }
   ],
   "source": [
    "def plot_roc_curve(fpr, tpr, label=None):\n",
    "    plt.plot(fpr, tpr, linewidth=2, label=label)\n",
    "    plt.grid(True)\n",
    "    plt.xlabel(\"False Positive Rate\")\n",
    "    plt.ylabel(\"True Positive Rate\")\n",
    "    plt.plot([0, 1], [0, 1], 'k--')\n",
    "    \n",
    "plot_roc_curve(fpr, tpr)\n",
    "plt.show()"
   ]
  },
  {
   "cell_type": "markdown",
   "id": "140a3309-65a5-41c8-9253-9fb9f1ee9355",
   "metadata": {},
   "source": [
    "One way to understand this graph is to interpret the dotted line as a random classifier (FPR/TPR=1 thus doesn't make a difference).  \n",
    "The best ratio is to maximize the distance from this line when on the function, thus the point around (0.05, 0.9) is the best parameter for this classifier."
   ]
  },
  {
   "cell_type": "markdown",
   "id": "43a3d67c-1350-455c-9e50-923091ae98d8",
   "metadata": {},
   "source": [
    "Another way to compare classifiers is to measure AUC (*area under the curve*). The best classifier has AUC=1 and random AUC=0.5 ."
   ]
  },
  {
   "cell_type": "code",
   "execution_count": 87,
   "id": "e2c71d76-6295-4b21-a3d5-b0b8e11ee83b",
   "metadata": {},
   "outputs": [
    {
     "data": {
      "text/plain": [
       "0.9599243001892759"
      ]
     },
     "execution_count": 87,
     "metadata": {},
     "output_type": "execute_result"
    }
   ],
   "source": [
    "from sklearn.metrics import roc_auc_score\n",
    "roc_auc_score(y_train_3, y_scores)"
   ]
  },
  {
   "cell_type": "markdown",
   "id": "06aad038-addb-444e-989c-3ce8fc7b90dc",
   "metadata": {},
   "source": [
    "Here it seems like the classifier is very good by this metric, but as we have established earlier, that is because the positives are much sparser than negatives. It's better to use PR curve."
   ]
  },
  {
   "cell_type": "markdown",
   "id": "342c264d-6895-4b8d-87a9-bd792c515486",
   "metadata": {},
   "source": [
    "Let's train Random Forest Classifier, and compare it to the current model."
   ]
  },
  {
   "cell_type": "code",
   "execution_count": 89,
   "id": "c56477e9-43df-42e3-9034-692963c7d12b",
   "metadata": {},
   "outputs": [],
   "source": [
    "from sklearn.ensemble import RandomForestClassifier\n",
    "\n",
    "forest_clf = RandomForestClassifier(n_estimators=100, random_state=42)\n",
    "\n",
    "y_probas_forest = cross_val_predict(forest_clf, X_train, y_train_3, cv=3, method=\"predict_proba\")"
   ]
  },
  {
   "cell_type": "code",
   "execution_count": 90,
   "id": "67968a3a-8056-4a5b-a110-07f18f174def",
   "metadata": {},
   "outputs": [
    {
     "data": {
      "text/plain": [
       "array([[0.62, 0.38],\n",
       "       [1.  , 0.  ],\n",
       "       [0.94, 0.06],\n",
       "       ...,\n",
       "       [0.96, 0.04],\n",
       "       [1.  , 0.  ],\n",
       "       [0.98, 0.02]])"
      ]
     },
     "execution_count": 90,
     "metadata": {},
     "output_type": "execute_result"
    }
   ],
   "source": [
    "y_probas_forest"
   ]
  },
  {
   "cell_type": "markdown",
   "id": "1cb17c70-43a7-4225-b75d-573a09ea1f6a",
   "metadata": {},
   "source": [
    "Now we need to change probabilities into scores. We can do that by considering score as the probability from the positive class (2nd place in each array)."
   ]
  },
  {
   "cell_type": "code",
   "execution_count": 92,
   "id": "9cf2e1dc-28cf-4074-a2c3-2dfbddb0a086",
   "metadata": {},
   "outputs": [],
   "source": [
    "y_scores_forest = y_probas_forest[:, 1]\n",
    "fpr_forest, tpr_forest, thresholds_forest = roc_curve(y_train_3,y_scores_forest)"
   ]
  },
  {
   "cell_type": "code",
   "execution_count": 93,
   "id": "9e9710c4-4787-4b23-b1a4-1d922c56ab46",
   "metadata": {},
   "outputs": [
    {
     "data": {
      "image/png": "[encoded data removed]",
      "text/plain": [
       "<Figure size 640x480 with 1 Axes>"
      ]
     },
     "metadata": {},
     "output_type": "display_data"
    }
   ],
   "source": [
    "plt.plot(fpr, tpr, \"b:\", label=\"SGD\")\n",
    "plot_roc_curve(fpr_forest, tpr_forest, \"Random Forest\")\n",
    "plt.legend(loc=\"lower right\")\n",
    "plt.show()"
   ]
  },
  {
   "cell_type": "markdown",
   "id": "ec730bd6-5857-408a-b3ef-34cef09bea99",
   "metadata": {},
   "source": [
    "It is clear that the Random Forrest's ROC curve looks better than SGD Classifier's. Therefore the AUC must be better too."
   ]
  },
  {
   "cell_type": "code",
   "execution_count": 95,
   "id": "a331c825-8255-460c-80ed-6c238b23c05f",
   "metadata": {},
   "outputs": [
    {
     "data": {
      "text/plain": [
       "0.995864544068936"
      ]
     },
     "execution_count": 95,
     "metadata": {},
     "output_type": "execute_result"
    }
   ],
   "source": [
    "roc_auc_score(y_train_3, y_scores_forest)"
   ]
  },
  {
   "cell_type": "code",
   "execution_count": 97,
   "id": "a4798cf4-7aad-4d2f-82b1-a277915b873a",
   "metadata": {},
   "outputs": [
    {
     "name": "stdout",
     "output_type": "stream",
     "text": [
      "0.9947481034818129\n",
      "0.8341216767248409\n"
     ]
    }
   ],
   "source": [
    "y_train_pred_forest = cross_val_predict(forest_clf, X_train, y_train_3, cv=3)\n",
    "print(precision_score(y_train_3, y_train_pred_forest))\n",
    "print(recall_score(y_train_3, y_train_pred_forest))"
   ]
  },
  {
   "cell_type": "code",
   "execution_count": 98,
   "id": "4a2aa2d9-751e-4cb8-845d-0cabe3741f46",
   "metadata": {},
   "outputs": [
    {
     "data": {
      "text/plain": [
       "0.9073811213626686"
      ]
     },
     "execution_count": 98,
     "metadata": {},
     "output_type": "execute_result"
    }
   ],
   "source": [
    "f1_score(y_train_3, y_train_pred_forest)"
   ]
  },
  {
   "cell_type": "markdown",
   "id": "d4dc8f4c-93f8-4aeb-80aa-9ecd04fe18c0",
   "metadata": {},
   "source": [
    "This time, the evaluation is much better. Seems like Random Forest is definitely well thought choice."
   ]
  },
  {
   "cell_type": "markdown",
   "id": "ff6f9eca-e8aa-47b6-a203-64f60f6ac99c",
   "metadata": {},
   "source": [
    "## Multiclass Classification\n",
    "Now we can focus on classifying every number. We can take OvA or OvO strategy. Let's try using SGDClassifier"
   ]
  },
  {
   "cell_type": "code",
   "execution_count": 99,
   "id": "99662428-1ceb-4080-937b-438429d14f96",
   "metadata": {},
   "outputs": [
    {
     "data": {
      "text/plain": [
       "array([3], dtype=uint8)"
      ]
     },
     "execution_count": 99,
     "metadata": {},
     "output_type": "execute_result"
    }
   ],
   "source": [
    "sgd_clf.fit(X_train, y_train)\n",
    "sgd_clf.predict([some_digit])"
   ]
  },
  {
   "cell_type": "code",
   "execution_count": 112,
   "id": "85ab5f5d-b92f-428d-ac94-92c83f0d8b98",
   "metadata": {},
   "outputs": [
    {
     "name": "stdout",
     "output_type": "stream",
     "text": [
      "[array([5, 0, 4, 1, 9, 2, 1, 3, 1, 4], dtype=uint8)]\n"
     ]
    },
    {
     "data": {
      "text/plain": [
       "[3, 0, 4, 1, 9, 2, 1, 3, 1, 4]"
      ]
     },
     "execution_count": 112,
     "metadata": {},
     "output_type": "execute_result"
    }
   ],
   "source": [
    "print([y[:10]])\n",
    "pred = []\n",
    "for i in range(10):\n",
    "    pred.append(sgd_clf.predict([X[i]])[0])\n",
    "pred"
   ]
  },
  {
   "cell_type": "markdown",
   "id": "65af34cb-8f1e-466a-87cf-557bc9d20bc5",
   "metadata": {},
   "source": [
    "You can see, that the evaluation is not perfect (first digit is wrong), though overall looks very reasonably promising.  \n",
    "This model is trained by evaluating all digits, not only seeing if this is the number 3.  \n",
    "Actually sklearn trained 10 hidden classifiers, that later determine what is the correct number based on the highest score."
   ]
  },
  {
   "cell_type": "code",
   "execution_count": 113,
   "id": "ec4f7d94-e56f-4a86-a704-9cf289d0843e",
   "metadata": {},
   "outputs": [
    {
     "data": {
      "text/plain": [
       "array([[-31893.03095419, -34419.69069632,  -9530.63950739,\n",
       "          1823.73154031, -22320.14822878,  -1385.80478895,\n",
       "        -26188.91070951, -16147.51323997,  -4604.35491274,\n",
       "        -12050.767298  ]])"
      ]
     },
     "execution_count": 113,
     "metadata": {},
     "output_type": "execute_result"
    }
   ],
   "source": [
    "some_digit = X[0]\n",
    "some_digit_scores = sgd_clf.decision_function([some_digit])\n",
    "some_digit_scores"
   ]
  },
  {
   "cell_type": "code",
   "execution_count": 114,
   "id": "dc05b7e9-6934-4927-8e7b-199445b8a0f3",
   "metadata": {},
   "outputs": [
    {
     "data": {
      "text/plain": [
       "array([0, 1, 2, 3, 4, 5, 6, 7, 8, 9], dtype=uint8)"
      ]
     },
     "execution_count": 114,
     "metadata": {},
     "output_type": "execute_result"
    }
   ],
   "source": [
    "sgd_clf.classes_"
   ]
  },
  {
   "cell_type": "markdown",
   "id": "cb19c186-b9b3-463a-b88c-5fd08cec1b67",
   "metadata": {},
   "source": [
    "We can see in this case what scores are associated with what number. This was a wrong prediction, but the second best was the correct answer."
   ]
  },
  {
   "cell_type": "markdown",
   "id": "6520b0ab-1807-439d-813e-130fd7a5258a",
   "metadata": {},
   "source": [
    "If we wanted, we could easily try the OvO Classifier based on SGDClassifier. This would take substential amount of time.  \n",
    "Training a RandomForestClassifier is much easier."
   ]
  },
  {
   "cell_type": "code",
   "execution_count": 115,
   "id": "5dc33069-89fb-484b-887d-6da27bb1e71d",
   "metadata": {},
   "outputs": [
    {
     "data": {
      "text/plain": [
       "array([5], dtype=uint8)"
      ]
     },
     "execution_count": 115,
     "metadata": {},
     "output_type": "execute_result"
    }
   ],
   "source": [
    "forest_clf.fit(X_train, y_train)\n",
    "forest_clf.predict([some_digit])"
   ]
  },
  {
   "cell_type": "markdown",
   "id": "b4f20408-6cd6-46e6-8e91-7f1617f453ca",
   "metadata": {},
   "source": [
    "This time it seems like the number is correctly assigned."
   ]
  },
  {
   "cell_type": "code",
   "execution_count": 116,
   "id": "f4e054ab-c3ae-4e02-8fe8-0cc2565862dc",
   "metadata": {},
   "outputs": [
    {
     "data": {
      "text/plain": [
       "array([[0.  , 0.  , 0.01, 0.08, 0.  , 0.9 , 0.  , 0.  , 0.  , 0.01]])"
      ]
     },
     "execution_count": 116,
     "metadata": {},
     "output_type": "execute_result"
    }
   ],
   "source": [
    "forest_clf.predict_proba([some_digit])"
   ]
  },
  {
   "cell_type": "markdown",
   "id": "15047707-5e59-43c2-b8f5-46a70067dffe",
   "metadata": {},
   "source": [
    "The model clearly thinks with 90% probability that the number is 5, which is correct."
   ]
  },
  {
   "cell_type": "markdown",
   "id": "37059500-c582-40e0-a83f-59da387a9d40",
   "metadata": {},
   "source": [
    "Let's use cross validation for evaluation of our models."
   ]
  },
  {
   "cell_type": "code",
   "execution_count": 117,
   "id": "0b0b83b9-b39f-4b29-87bb-293ddbdac256",
   "metadata": {},
   "outputs": [
    {
     "data": {
      "text/plain": [
       "array([0.87365, 0.85835, 0.8689 ])"
      ]
     },
     "execution_count": 117,
     "metadata": {},
     "output_type": "execute_result"
    }
   ],
   "source": [
    "cross_val_score(sgd_clf, X_train, y_train, cv=3, scoring=\"accuracy\")"
   ]
  },
  {
   "cell_type": "markdown",
   "id": "774354b3-ebda-4d39-991b-fb942c69db21",
   "metadata": {},
   "source": [
    "The score is over 85% on every test fold, so it's pretty good. If the classification was random, it should be around the level of 10% (1 in 10 chance you guess the correct digit)."
   ]
  },
  {
   "cell_type": "markdown",
   "id": "aac73673-b146-4fd4-aa2e-2927e508d629",
   "metadata": {},
   "source": [
    "To increase the results we can use scaler (the number is going to be fit in range from 0 to 1), thus slightly improving efficiency of the model."
   ]
  },
  {
   "cell_type": "code",
   "execution_count": 120,
   "id": "e557572e-3348-4c92-9d10-af4683c8f833",
   "metadata": {},
   "outputs": [
    {
     "data": {
      "text/plain": [
       "array([0.8983, 0.891 , 0.9018])"
      ]
     },
     "execution_count": 120,
     "metadata": {},
     "output_type": "execute_result"
    }
   ],
   "source": [
    "from sklearn.preprocessing import StandardScaler\n",
    "\n",
    "scaler = StandardScaler()\n",
    "\n",
    "X_train_scaled = scaler.fit_transform(X_train.astype(np.float64))\n",
    "cross_val_score(sgd_clf, X_train_scaled, y_train, cv=3, scoring=\"accuracy\")"
   ]
  },
  {
   "cell_type": "markdown",
   "id": "5b9c81d7-b9cf-4685-9e5e-1d8faf857270",
   "metadata": {},
   "source": [
    "It's clear that this simple transformation made a model perform with at least 89.8% accuracy."
   ]
  },
  {
   "cell_type": "markdown",
   "id": "971bd519-ecb5-4b8b-96e9-a5228a478b12",
   "metadata": {},
   "source": [
    "## Error Analysis\n",
    "Here for the purpuse of the learning I will skip the hyperparameter tuning and go straight to the confussion matrix."
   ]
  },
  {
   "cell_type": "code",
   "execution_count": 122,
   "id": "36444293-c87c-4f0b-aef8-b535c8a4d5ee",
   "metadata": {},
   "outputs": [],
   "source": [
    "y_train_pred = cross_val_predict(sgd_clf, X_train_scaled, y_train, cv=3)\n",
    "conf_mx = confusion_matrix(y_train, y_train_pred)"
   ]
  },
  {
   "cell_type": "code",
   "execution_count": 123,
   "id": "553c2d59-4c9d-4504-ac66-8badb03ecb68",
   "metadata": {},
   "outputs": [
    {
     "data": {
      "text/plain": [
       "array([[5577,    0,   22,    5,    8,   43,   36,    6,  225,    1],\n",
       "       [   0, 6400,   37,   24,    4,   44,    4,    7,  212,   10],\n",
       "       [  27,   27, 5220,   92,   73,   27,   67,   36,  378,   11],\n",
       "       [  22,   17,  117, 5227,    2,  203,   27,   40,  403,   73],\n",
       "       [  12,   14,   41,    9, 5182,   12,   34,   27,  347,  164],\n",
       "       [  27,   15,   30,  168,   53, 4444,   75,   14,  535,   60],\n",
       "       [  30,   15,   42,    3,   44,   97, 5552,    3,  131,    1],\n",
       "       [  21,   10,   51,   30,   49,   12,    3, 5684,  195,  210],\n",
       "       [  17,   63,   48,   86,    3,  126,   25,   10, 5429,   44],\n",
       "       [  25,   18,   30,   64,  118,   36,    1,  179,  371, 5107]],\n",
       "      dtype=int64)"
      ]
     },
     "execution_count": 123,
     "metadata": {},
     "output_type": "execute_result"
    }
   ],
   "source": [
    "conf_mx"
   ]
  },
  {
   "cell_type": "markdown",
   "id": "243bac04-35f0-4b0b-8d4e-93c0473f2fc3",
   "metadata": {},
   "source": [
    "This representation is not that clear if you don't know what to look for, thus let's make a graphic representation."
   ]
  },
  {
   "cell_type": "code",
   "execution_count": 124,
   "id": "425807c1-9059-4f91-9099-ba263d28b5f5",
   "metadata": {},
   "outputs": [
    {
     "data": {
      "image/png": "[encoded data removed]",
      "text/plain": [
       "<Figure size 480x480 with 1 Axes>"
      ]
     },
     "metadata": {},
     "output_type": "display_data"
    }
   ],
   "source": [
    "plt.matshow(conf_mx, cmap=plt.cm.gray)\n",
    "plt.show()"
   ]
  },
  {
   "cell_type": "markdown",
   "id": "baa7dd69-168f-4077-a8d3-0e89041b21b6",
   "metadata": {},
   "source": [
    "The more light on diagonal the better. This is fairly good, but you can see the darker shades, like in digit 5. You can argue that the model has worse performance on this number, than the rest."
   ]
  },
  {
   "cell_type": "markdown",
   "id": "41ab6db5-8306-45b6-b1d0-02e7b1e0c226",
   "metadata": {},
   "source": [
    "Let's compare the errors. We need to divide each value by the total number of photos of each digit."
   ]
  },
  {
   "cell_type": "code",
   "execution_count": 129,
   "id": "78a62ccf-bf12-480f-8007-41284cb2dca2",
   "metadata": {},
   "outputs": [
    {
     "data": {
      "image/png": "[encoded data removed]",
      "text/plain": [
       "<Figure size 480x480 with 1 Axes>"
      ]
     },
     "metadata": {},
     "output_type": "display_data"
    }
   ],
   "source": [
    "row_sums = conf_mx.sum(axis=1, keepdims=True)\n",
    "norm_conf_mx = conf_mx/row_sums # relative error\n",
    "\n",
    "np.fill_diagonal(norm_conf_mx, 0) # keep the errors only\n",
    "plt.matshow(norm_conf_mx, cmap=plt.cm.gray)\n",
    "plt.show()"
   ]
  },
  {
   "cell_type": "markdown",
   "id": "90a69491-1410-4724-abf4-f9f4995404ab",
   "metadata": {},
   "source": [
    "The column for 8 is disproportionately brighter than other columns, however the row for 8 is not as distinctive.  \n",
    "This means that many numbers get misinterpreted as 8.  \n",
    "  \n",
    "Another example is 5 and 3 and vice versa get confused.  \n",
    "Outshone by the 8, but many numbers are also often confused with 9."
   ]
  },
  {
   "cell_type": "markdown",
   "id": "dcedd3a8-2786-4d01-8f55-ec9a0471df63",
   "metadata": {},
   "source": [
    "To correct these errors, you could gather more data, e.g. more numbers that look like 8 but aren't. Another way would be to involve computer vision algorithms for preprocessing and then it would recognize more patterns and point out on more significant pars of the image (like loops or legs)"
   ]
  },
  {
   "cell_type": "markdown",
   "id": "c4400c2d-6d03-44e3-a6f2-304368bef309",
   "metadata": {},
   "source": [
    "Below there is a copied function from the book that allows you to plot multiple images."
   ]
  },
  {
   "cell_type": "code",
   "execution_count": 130,
   "id": "5f5de9b8-80ce-4e0d-896c-b20d97c3d89f",
   "metadata": {},
   "outputs": [],
   "source": [
    "def plot_digits(instances, images_per_row=10, **options):\n",
    "    size = 28\n",
    "    images_per_row = min(len(instances), images_per_row)\n",
    "    # This is equivalent to n_rows = ceil(len(instances) / images_per_row):\n",
    "    n_rows = (len(instances) - 1) // images_per_row + 1\n",
    "\n",
    "    # Append empty images to fill the end of the grid, if needed:\n",
    "    n_empty = n_rows * images_per_row - len(instances)\n",
    "    padded_instances = np.concatenate([instances, np.zeros((n_empty, size * size))], axis=0)\n",
    "\n",
    "    # Reshape the array so it's organized as a grid containing 28×28 images:\n",
    "    image_grid = padded_instances.reshape((n_rows, images_per_row, size, size))\n",
    "\n",
    "    # Combine axes 0 and 2 (vertical image grid axis, and vertical image axis),\n",
    "    # and axes 1 and 3 (horizontal axes). We first need to move the axes that we\n",
    "    # want to combine next to each other, using transpose(), and only then we\n",
    "    # can reshape:\n",
    "    big_image = image_grid.transpose(0, 2, 1, 3).reshape(n_rows * size,\n",
    "                                                         images_per_row * size)\n",
    "    # Now that we have a big image, we just need to show it:\n",
    "    plt.imshow(big_image, cmap = mpl.cm.binary, **options)\n",
    "    plt.axis(\"off\")"
   ]
  },
  {
   "cell_type": "code",
   "execution_count": 131,
   "id": "c9294d19-bc76-410b-85ad-8e630fdca897",
   "metadata": {},
   "outputs": [
    {
     "data": {
      "image/png": "[encoded data removed]",
      "text/plain": [
       "<Figure size 800x800 with 4 Axes>"
      ]
     },
     "metadata": {},
     "output_type": "display_data"
    }
   ],
   "source": [
    "cl_a, cl_b = 3, 5\n",
    "X_aa = X_train[(y_train == cl_a) & (y_train_pred == cl_a)]\n",
    "X_ab = X_train[(y_train == cl_a) & (y_train_pred == cl_b)]\n",
    "X_ba = X_train[(y_train == cl_b) & (y_train_pred == cl_a)]\n",
    "X_bb = X_train[(y_train == cl_b) & (y_train_pred == cl_b)]\n",
    "\n",
    "plt.figure(figsize=(8,8))\n",
    "plt.subplot(221); plot_digits(X_aa[:25], images_per_row=5)\n",
    "plt.subplot(222); plot_digits(X_ab[:25], images_per_row=5)\n",
    "plt.subplot(223); plot_digits(X_ba[:25], images_per_row=5)\n",
    "plt.subplot(224); plot_digits(X_bb[:25], images_per_row=5)\n",
    "plt.show()"
   ]
  },
  {
   "cell_type": "markdown",
   "id": "437a2a16-c2c1-4648-b0ec-9ef1825bfd5f",
   "metadata": {},
   "source": [
    "Left column shows numbers identified as 3, and column on the right numbers as 5.  \n",
    "Some digits are poorly written, however we can recognize many without a problem.  \n",
    "The problem lies in the model used - SGDClassifier is a linear model. It basically assigns a weight per pixel and sums it up. Since 3 and 5 have similar amount of pixels used, this model gets easily confused.  \n",
    "Preprocessing - transformation and different formation of these numbers can greatly improve the model's performance."
   ]
  },
  {
   "cell_type": "markdown",
   "id": "8f4f957c-7fda-48ab-8fc2-b6fbfb767039",
   "metadata": {},
   "source": [
    "## Multilabel classification\n",
    "When we want to recognize many binary classes (like faces of few people - Alex, Bob, Chris) from one instance (picture and many faces and see if they are there - 1,0,1)."
   ]
  },
  {
   "cell_type": "markdown",
   "id": "ecd9de16-07e8-486d-b8cd-da749a7cd218",
   "metadata": {},
   "source": [
    "In book there was example of classifying a number if it's large, and/or odd. This classifier may take a very long amount of time, that's why I'm not including it here."
   ]
  },
  {
   "cell_type": "markdown",
   "id": "34fe574f-6e90-41c1-86ba-1a005eaf55eb",
   "metadata": {},
   "source": [
    "## Multioutput classification\n",
    "This is the classification that can output multiple results. For example, you could build image denoiser, and it will output an array."
   ]
  },
  {
   "cell_type": "markdown",
   "id": "0ef6337f-9ba3-4fc6-abc3-dca3581447d6",
   "metadata": {},
   "source": [
    "## K Neighbors Classifier\n",
    "Let's now try KNeighborsClassifier that should work well in this case."
   ]
  },
  {
   "cell_type": "code",
   "execution_count": 141,
   "id": "196bd5f3-110a-4a59-bcf1-1cfa130d3955",
   "metadata": {},
   "outputs": [
    {
     "data": {
      "text/html": [
       "<style>#sk-container-id-2 {color: black;background-color: white;}#sk-container-id-2 pre{padding: 0;}#sk-container-id-2 div.sk-toggleable {background-color: white;}#sk-container-id-2 label.sk-toggleable__label {cursor: pointer;display: block;width: 100%;margin-bottom: 0;padding: 0.3em;box-sizing: border-box;text-align: center;}#sk-container-id-2 label.sk-toggleable__label-arrow:before {content: \"▸\";float: left;margin-right: 0.25em;color: #696969;}#sk-container-id-2 label.sk-toggleable__label-arrow:hover:before {color: black;}#sk-container-id-2 div.sk-estimator:hover label.sk-toggleable__label-arrow:before {color: black;}#sk-container-id-2 div.sk-toggleable__content {max-height: 0;max-width: 0;overflow: hidden;text-align: left;background-color: #f0f8ff;}#sk-container-id-2 div.sk-toggleable__content pre {margin: 0.2em;color: black;border-radius: 0.25em;background-color: #f0f8ff;}#sk-container-id-2 input.sk-toggleable__control:checked~div.sk-toggleable__content {max-height: 200px;max-width: 100%;overflow: auto;}#sk-container-id-2 input.sk-toggleable__control:checked~label.sk-toggleable__label-arrow:before {content: \"▾\";}#sk-container-id-2 div.sk-estimator input.sk-toggleable__control:checked~label.sk-toggleable__label {background-color: #d4ebff;}#sk-container-id-2 div.sk-label input.sk-toggleable__control:checked~label.sk-toggleable__label {background-color: #d4ebff;}#sk-container-id-2 input.sk-hidden--visually {border: 0;clip: rect(1px 1px 1px 1px);clip: rect(1px, 1px, 1px, 1px);height: 1px;margin: -1px;overflow: hidden;padding: 0;position: absolute;width: 1px;}#sk-container-id-2 div.sk-estimator {font-family: monospace;background-color: #f0f8ff;border: 1px dotted black;border-radius: 0.25em;box-sizing: border-box;margin-bottom: 0.5em;}#sk-container-id-2 div.sk-estimator:hover {background-color: #d4ebff;}#sk-container-id-2 div.sk-parallel-item::after {content: \"\";width: 100%;border-bottom: 1px solid gray;flex-grow: 1;}#sk-container-id-2 div.sk-label:hover label.sk-toggleable__label {background-color: #d4ebff;}#sk-container-id-2 div.sk-serial::before {content: \"\";position: absolute;border-left: 1px solid gray;box-sizing: border-box;top: 0;bottom: 0;left: 50%;z-index: 0;}#sk-container-id-2 div.sk-serial {display: flex;flex-direction: column;align-items: center;background-color: white;padding-right: 0.2em;padding-left: 0.2em;position: relative;}#sk-container-id-2 div.sk-item {position: relative;z-index: 1;}#sk-container-id-2 div.sk-parallel {display: flex;align-items: stretch;justify-content: center;background-color: white;position: relative;}#sk-container-id-2 div.sk-item::before, #sk-container-id-2 div.sk-parallel-item::before {content: \"\";position: absolute;border-left: 1px solid gray;box-sizing: border-box;top: 0;bottom: 0;left: 50%;z-index: -1;}#sk-container-id-2 div.sk-parallel-item {display: flex;flex-direction: column;z-index: 1;position: relative;background-color: white;}#sk-container-id-2 div.sk-parallel-item:first-child::after {align-self: flex-end;width: 50%;}#sk-container-id-2 div.sk-parallel-item:last-child::after {align-self: flex-start;width: 50%;}#sk-container-id-2 div.sk-parallel-item:only-child::after {width: 0;}#sk-container-id-2 div.sk-dashed-wrapped {border: 1px dashed gray;margin: 0 0.4em 0.5em 0.4em;box-sizing: border-box;padding-bottom: 0.4em;background-color: white;}#sk-container-id-2 div.sk-label label {font-family: monospace;font-weight: bold;display: inline-block;line-height: 1.2em;}#sk-container-id-2 div.sk-label-container {text-align: center;}#sk-container-id-2 div.sk-container {/* jupyter's `normalize.less` sets `[hidden] { display: none; }` but bootstrap.min.css set `[hidden] { display: none !important; }` so we also need the `!important` here to be able to override the default hidden behavior on the sphinx rendered scikit-learn.org. See: https://github.com/scikit-learn/scikit-learn/issues/21755 */display: inline-block !important;position: relative;}#sk-container-id-2 div.sk-text-repr-fallback {display: none;}</style><div id=\"sk-container-id-2\" class=\"sk-top-container\"><div class=\"sk-text-repr-fallback\"><pre>KNeighborsClassifier(weights=&#x27;distance&#x27;)</pre><b>In a Jupyter environment, please rerun this cell to show the HTML representation or trust the notebook. <br />On GitHub, the HTML representation is unable to render, please try loading this page with nbviewer.org.</b></div><div class=\"sk-container\" hidden><div class=\"sk-item\"><div class=\"sk-estimator sk-toggleable\"><input class=\"sk-toggleable__control sk-hidden--visually\" id=\"sk-estimator-id-2\" type=\"checkbox\" checked><label for=\"sk-estimator-id-2\" class=\"sk-toggleable__label sk-toggleable__label-arrow\">KNeighborsClassifier</label><div class=\"sk-toggleable__content\"><pre>KNeighborsClassifier(weights=&#x27;distance&#x27;)</pre></div></div></div></div></div>"
      ],
      "text/plain": [
       "KNeighborsClassifier(weights='distance')"
      ]
     },
     "execution_count": 141,
     "metadata": {},
     "output_type": "execute_result"
    }
   ],
   "source": [
    "from sklearn.neighbors import KNeighborsClassifier\n",
    "\n",
    "knn_clf = KNeighborsClassifier(weights='distance')\n",
    "knn_clf.fit(X_train_scaled, y_train)"
   ]
  },
  {
   "cell_type": "code",
   "execution_count": 143,
   "id": "81f5e51f-c0e2-464d-9cde-daed9df6ae7a",
   "metadata": {},
   "outputs": [],
   "source": [
    "y_knn_train_pred = cross_val_predict(knn_clf, X_train_scaled, y_train, cv=3)"
   ]
  },
  {
   "cell_type": "code",
   "execution_count": 146,
   "id": "30e4794c-0e9d-49a7-b57e-dd256e039d0b",
   "metadata": {},
   "outputs": [
    {
     "name": "stdout",
     "output_type": "stream",
     "text": [
      "[0.95944609 0.95173497 0.95949235 0.92958199 0.94913173 0.9277086\n",
      " 0.95361166 0.93378959 0.96201365 0.89600652]\n",
      "[0.98261016 0.98857906 0.92631756 0.94307617 0.9262239  0.92086331\n",
      " 0.97262589 0.93647247 0.89164245 0.92402084]\n"
     ]
    }
   ],
   "source": [
    "print(precision_score(y_train, y_knn_train_pred, average=None))\n",
    "print(recall_score(y_train, y_knn_train_pred, average=None))"
   ]
  },
  {
   "cell_type": "markdown",
   "id": "e4b928e5-8138-4216-b4bb-3c1fa76c79c2",
   "metadata": {},
   "source": [
    "Above we can see score for each class (each number)."
   ]
  },
  {
   "cell_type": "code",
   "execution_count": 147,
   "id": "79d3e0b8-af4f-4403-b510-2e0519488aff",
   "metadata": {},
   "outputs": [
    {
     "data": {
      "text/plain": [
       "0.941970626373265"
      ]
     },
     "execution_count": 147,
     "metadata": {},
     "output_type": "execute_result"
    }
   ],
   "source": [
    "f1_score(y_train, y_knn_train_pred, average='weighted')"
   ]
  },
  {
   "cell_type": "markdown",
   "id": "60ca4f27-e03e-4bbf-9e07-3013e85fc1bb",
   "metadata": {},
   "source": [
    "As we can see, the weighted average of all numbers in f1 score is quite high at the level of 94%."
   ]
  },
  {
   "cell_type": "markdown",
   "id": "dc5998c3-469a-4b94-acd5-0d38b456160c",
   "metadata": {},
   "source": [
    "We can shift now every image in every direction thus artificially enlarging the dataset. It is called *data augmentation*."
   ]
  },
  {
   "cell_type": "code",
   "execution_count": 151,
   "id": "b83b9b20-68e6-4cc4-8836-baa65af64f9e",
   "metadata": {},
   "outputs": [
    {
     "data": {
      "image/png": "[encoded data removed]",
      "text/plain": [
       "<Figure size 640x480 with 1 Axes>"
      ]
     },
     "metadata": {},
     "output_type": "display_data"
    }
   ],
   "source": [
    "from scipy.ndimage import shift\n",
    "\n",
    "def shift_photo(photo_arr, dx, dy):\n",
    "    return shift(photo_arr.reshape(28, 28), [dx, dy]).reshape(784)\n",
    "\n",
    "plot_digit(shift_photo(X[4], 3, -3))"
   ]
  },
  {
   "cell_type": "code",
   "execution_count": 150,
   "id": "ea18d3ab-a840-46d9-bd8d-3682192ed2b2",
   "metadata": {},
   "outputs": [
    {
     "data": {
      "image/png": "[encoded data removed]",
      "text/plain": [
       "<Figure size 640x480 with 1 Axes>"
      ]
     },
     "metadata": {},
     "output_type": "display_data"
    }
   ],
   "source": [
    "plot_digit(X[4])"
   ]
  },
  {
   "cell_type": "markdown",
   "id": "a963202f-1b77-4272-a01e-49b299973d10",
   "metadata": {},
   "source": [
    "We can see that the first image is shifted in an expected way. Now let's do that for every digit in dataset 4 times (every direction) and add them to the set."
   ]
  },
  {
   "cell_type": "code",
   "execution_count": 152,
   "id": "c88df3c1-a0fd-4865-97af-267a4f934638",
   "metadata": {},
   "outputs": [
    {
     "data": {
      "text/plain": [
       "((300000, 784), (300000,))"
      ]
     },
     "execution_count": 152,
     "metadata": {},
     "output_type": "execute_result"
    }
   ],
   "source": [
    "X_train_augmented = [X_train]\n",
    "y_train_augmented = [y_train]\n",
    "\n",
    "for dx, dy in ((-1, 0), (0, 1), (1, 0), (0, -1)):\n",
    "    shift_images = np.apply_along_axis(shift_photo, axis=1, arr=X_train, dx=dx, dy=dy)\n",
    "    X_train_augmented.append(shift_images)\n",
    "    y_train_augmented.append(y_train)\n",
    "\n",
    "X_train_augmented = np.concatenate(X_train_augmented)\n",
    "y_train_augmented = np.concatenate(y_train_augmented)\n",
    "X_train_augmented.shape, y_train_augmented.shape"
   ]
  },
  {
   "cell_type": "markdown",
   "id": "26b8a5c0-befa-4fde-b1f9-538c58b4aba9",
   "metadata": {},
   "source": [
    "Now let's train KNN Classifier on new expanded dataset."
   ]
  },
  {
   "cell_type": "code",
   "execution_count": 154,
   "id": "4d5b9fb5-2b02-49ad-9ccd-5e0d829d2960",
   "metadata": {},
   "outputs": [
    {
     "data": {
      "text/html": [
       "<style>#sk-container-id-3 {color: black;background-color: white;}#sk-container-id-3 pre{padding: 0;}#sk-container-id-3 div.sk-toggleable {background-color: white;}#sk-container-id-3 label.sk-toggleable__label {cursor: pointer;display: block;width: 100%;margin-bottom: 0;padding: 0.3em;box-sizing: border-box;text-align: center;}#sk-container-id-3 label.sk-toggleable__label-arrow:before {content: \"▸\";float: left;margin-right: 0.25em;color: #696969;}#sk-container-id-3 label.sk-toggleable__label-arrow:hover:before {color: black;}#sk-container-id-3 div.sk-estimator:hover label.sk-toggleable__label-arrow:before {color: black;}#sk-container-id-3 div.sk-toggleable__content {max-height: 0;max-width: 0;overflow: hidden;text-align: left;background-color: #f0f8ff;}#sk-container-id-3 div.sk-toggleable__content pre {margin: 0.2em;color: black;border-radius: 0.25em;background-color: #f0f8ff;}#sk-container-id-3 input.sk-toggleable__control:checked~div.sk-toggleable__content {max-height: 200px;max-width: 100%;overflow: auto;}#sk-container-id-3 input.sk-toggleable__control:checked~label.sk-toggleable__label-arrow:before {content: \"▾\";}#sk-container-id-3 div.sk-estimator input.sk-toggleable__control:checked~label.sk-toggleable__label {background-color: #d4ebff;}#sk-container-id-3 div.sk-label input.sk-toggleable__control:checked~label.sk-toggleable__label {background-color: #d4ebff;}#sk-container-id-3 input.sk-hidden--visually {border: 0;clip: rect(1px 1px 1px 1px);clip: rect(1px, 1px, 1px, 1px);height: 1px;margin: -1px;overflow: hidden;padding: 0;position: absolute;width: 1px;}#sk-container-id-3 div.sk-estimator {font-family: monospace;background-color: #f0f8ff;border: 1px dotted black;border-radius: 0.25em;box-sizing: border-box;margin-bottom: 0.5em;}#sk-container-id-3 div.sk-estimator:hover {background-color: #d4ebff;}#sk-container-id-3 div.sk-parallel-item::after {content: \"\";width: 100%;border-bottom: 1px solid gray;flex-grow: 1;}#sk-container-id-3 div.sk-label:hover label.sk-toggleable__label {background-color: #d4ebff;}#sk-container-id-3 div.sk-serial::before {content: \"\";position: absolute;border-left: 1px solid gray;box-sizing: border-box;top: 0;bottom: 0;left: 50%;z-index: 0;}#sk-container-id-3 div.sk-serial {display: flex;flex-direction: column;align-items: center;background-color: white;padding-right: 0.2em;padding-left: 0.2em;position: relative;}#sk-container-id-3 div.sk-item {position: relative;z-index: 1;}#sk-container-id-3 div.sk-parallel {display: flex;align-items: stretch;justify-content: center;background-color: white;position: relative;}#sk-container-id-3 div.sk-item::before, #sk-container-id-3 div.sk-parallel-item::before {content: \"\";position: absolute;border-left: 1px solid gray;box-sizing: border-box;top: 0;bottom: 0;left: 50%;z-index: -1;}#sk-container-id-3 div.sk-parallel-item {display: flex;flex-direction: column;z-index: 1;position: relative;background-color: white;}#sk-container-id-3 div.sk-parallel-item:first-child::after {align-self: flex-end;width: 50%;}#sk-container-id-3 div.sk-parallel-item:last-child::after {align-self: flex-start;width: 50%;}#sk-container-id-3 div.sk-parallel-item:only-child::after {width: 0;}#sk-container-id-3 div.sk-dashed-wrapped {border: 1px dashed gray;margin: 0 0.4em 0.5em 0.4em;box-sizing: border-box;padding-bottom: 0.4em;background-color: white;}#sk-container-id-3 div.sk-label label {font-family: monospace;font-weight: bold;display: inline-block;line-height: 1.2em;}#sk-container-id-3 div.sk-label-container {text-align: center;}#sk-container-id-3 div.sk-container {/* jupyter's `normalize.less` sets `[hidden] { display: none; }` but bootstrap.min.css set `[hidden] { display: none !important; }` so we also need the `!important` here to be able to override the default hidden behavior on the sphinx rendered scikit-learn.org. See: https://github.com/scikit-learn/scikit-learn/issues/21755 */display: inline-block !important;position: relative;}#sk-container-id-3 div.sk-text-repr-fallback {display: none;}</style><div id=\"sk-container-id-3\" class=\"sk-top-container\"><div class=\"sk-text-repr-fallback\"><pre>KNeighborsClassifier(weights=&#x27;distance&#x27;)</pre><b>In a Jupyter environment, please rerun this cell to show the HTML representation or trust the notebook. <br />On GitHub, the HTML representation is unable to render, please try loading this page with nbviewer.org.</b></div><div class=\"sk-container\" hidden><div class=\"sk-item\"><div class=\"sk-estimator sk-toggleable\"><input class=\"sk-toggleable__control sk-hidden--visually\" id=\"sk-estimator-id-3\" type=\"checkbox\" checked><label for=\"sk-estimator-id-3\" class=\"sk-toggleable__label sk-toggleable__label-arrow\">KNeighborsClassifier</label><div class=\"sk-toggleable__content\"><pre>KNeighborsClassifier(weights=&#x27;distance&#x27;)</pre></div></div></div></div></div>"
      ],
      "text/plain": [
       "KNeighborsClassifier(weights='distance')"
      ]
     },
     "execution_count": 154,
     "metadata": {},
     "output_type": "execute_result"
    }
   ],
   "source": [
    "knn_clf.fit(X_train_augmented, y_train_augmented)"
   ]
  },
  {
   "cell_type": "code",
   "execution_count": 155,
   "id": "ddc23131-3320-468c-a259-7d6eb632f307",
   "metadata": {},
   "outputs": [],
   "source": [
    "y_knn_augmented_pred = knn_clf.predict(X_test)"
   ]
  },
  {
   "cell_type": "code",
   "execution_count": 157,
   "id": "a682abb3-2c23-490d-9c79-9a76c7f2d3a8",
   "metadata": {},
   "outputs": [
    {
     "data": {
      "text/plain": [
       "0.9765862006382445"
      ]
     },
     "execution_count": 157,
     "metadata": {},
     "output_type": "execute_result"
    }
   ],
   "source": [
    "f1_score(y_test, y_knn_augmented_pred, average='weighted')"
   ]
  },
  {
   "cell_type": "markdown",
   "id": "ad4fefaa-0119-480c-b817-58253cfba479",
   "metadata": {},
   "source": [
    "Accuracy is now better - raising from ~94.2% to ~97.66%.  \n",
    "Let's see if we can tune hyperparameters to bump the score with augmented dataset."
   ]
  },
  {
   "cell_type": "markdown",
   "id": "10dcf729-1d14-4c5b-a1d2-f2bebe7b2adb",
   "metadata": {},
   "source": [
    "**Warning:** the following cell ran about 2hrs on my computer, depending on your hardware it may take longer or shorter."
   ]
  },
  {
   "cell_type": "code",
   "execution_count": 162,
   "id": "1b885f89-d734-41ce-a5d3-978c7f323177",
   "metadata": {},
   "outputs": [
    {
     "name": "stdout",
     "output_type": "stream",
     "text": [
      "Fitting 5 folds for each of 8 candidates, totalling 40 fits\n",
      "[CV 1/5] END ....n_neighbors=2, weights=uniform;, score=0.991 total time= 3.0min\n",
      "[CV 2/5] END ....n_neighbors=2, weights=uniform;, score=0.958 total time= 2.9min\n",
      "[CV 3/5] END ....n_neighbors=2, weights=uniform;, score=0.958 total time= 2.9min\n",
      "[CV 4/5] END ....n_neighbors=2, weights=uniform;, score=0.971 total time= 3.0min\n",
      "[CV 5/5] END ....n_neighbors=2, weights=uniform;, score=0.947 total time= 3.0min\n",
      "[CV 1/5] END ...n_neighbors=2, weights=distance;, score=0.992 total time= 2.9min\n",
      "[CV 2/5] END ...n_neighbors=2, weights=distance;, score=0.979 total time= 2.9min\n",
      "[CV 3/5] END ...n_neighbors=2, weights=distance;, score=0.969 total time= 2.9min\n",
      "[CV 4/5] END ...n_neighbors=2, weights=distance;, score=0.982 total time= 2.9min\n",
      "[CV 5/5] END ...n_neighbors=2, weights=distance;, score=0.968 total time= 2.9min\n",
      "[CV 1/5] END ....n_neighbors=3, weights=uniform;, score=0.995 total time= 2.9min\n",
      "[CV 2/5] END ....n_neighbors=3, weights=uniform;, score=0.969 total time= 2.9min\n",
      "[CV 3/5] END ....n_neighbors=3, weights=uniform;, score=0.963 total time= 2.9min\n",
      "[CV 4/5] END ....n_neighbors=3, weights=uniform;, score=0.973 total time= 2.9min\n",
      "[CV 5/5] END ....n_neighbors=3, weights=uniform;, score=0.959 total time= 2.8min\n",
      "[CV 1/5] END ...n_neighbors=3, weights=distance;, score=0.995 total time= 2.7min\n",
      "[CV 2/5] END ...n_neighbors=3, weights=distance;, score=0.972 total time= 2.7min\n",
      "[CV 3/5] END ...n_neighbors=3, weights=distance;, score=0.964 total time= 2.7min\n",
      "[CV 4/5] END ...n_neighbors=3, weights=distance;, score=0.976 total time= 2.7min\n",
      "[CV 5/5] END ...n_neighbors=3, weights=distance;, score=0.961 total time= 2.7min\n",
      "[CV 1/5] END ....n_neighbors=4, weights=uniform;, score=0.992 total time= 2.7min\n",
      "[CV 2/5] END ....n_neighbors=4, weights=uniform;, score=0.962 total time= 2.7min\n",
      "[CV 3/5] END ....n_neighbors=4, weights=uniform;, score=0.960 total time= 2.7min\n",
      "[CV 4/5] END ....n_neighbors=4, weights=uniform;, score=0.969 total time= 2.7min\n",
      "[CV 5/5] END ....n_neighbors=4, weights=uniform;, score=0.950 total time= 2.7min\n",
      "[CV 1/5] END ...n_neighbors=4, weights=distance;, score=0.995 total time= 2.7min\n",
      "[CV 2/5] END ...n_neighbors=4, weights=distance;, score=0.973 total time= 2.7min\n",
      "[CV 3/5] END ...n_neighbors=4, weights=distance;, score=0.966 total time= 2.7min\n",
      "[CV 4/5] END ...n_neighbors=4, weights=distance;, score=0.977 total time= 2.7min\n",
      "[CV 5/5] END ...n_neighbors=4, weights=distance;, score=0.962 total time= 2.7min\n",
      "[CV 1/5] END ....n_neighbors=5, weights=uniform;, score=0.993 total time= 2.7min\n",
      "[CV 2/5] END ....n_neighbors=5, weights=uniform;, score=0.963 total time= 2.7min\n",
      "[CV 3/5] END ....n_neighbors=5, weights=uniform;, score=0.959 total time= 2.7min\n",
      "[CV 4/5] END ....n_neighbors=5, weights=uniform;, score=0.967 total time= 2.7min\n",
      "[CV 5/5] END ....n_neighbors=5, weights=uniform;, score=0.952 total time= 2.7min\n",
      "[CV 1/5] END ...n_neighbors=5, weights=distance;, score=0.993 total time= 2.7min\n",
      "[CV 2/5] END ...n_neighbors=5, weights=distance;, score=0.967 total time= 2.7min\n",
      "[CV 3/5] END ...n_neighbors=5, weights=distance;, score=0.961 total time= 2.9min\n",
      "[CV 4/5] END ...n_neighbors=5, weights=distance;, score=0.970 total time= 2.7min\n",
      "[CV 5/5] END ...n_neighbors=5, weights=distance;, score=0.955 total time= 2.8min\n"
     ]
    },
    {
     "data": {
      "text/html": [
       "<style>#sk-container-id-5 {color: black;background-color: white;}#sk-container-id-5 pre{padding: 0;}#sk-container-id-5 div.sk-toggleable {background-color: white;}#sk-container-id-5 label.sk-toggleable__label {cursor: pointer;display: block;width: 100%;margin-bottom: 0;padding: 0.3em;box-sizing: border-box;text-align: center;}#sk-container-id-5 label.sk-toggleable__label-arrow:before {content: \"▸\";float: left;margin-right: 0.25em;color: #696969;}#sk-container-id-5 label.sk-toggleable__label-arrow:hover:before {color: black;}#sk-container-id-5 div.sk-estimator:hover label.sk-toggleable__label-arrow:before {color: black;}#sk-container-id-5 div.sk-toggleable__content {max-height: 0;max-width: 0;overflow: hidden;text-align: left;background-color: #f0f8ff;}#sk-container-id-5 div.sk-toggleable__content pre {margin: 0.2em;color: black;border-radius: 0.25em;background-color: #f0f8ff;}#sk-container-id-5 input.sk-toggleable__control:checked~div.sk-toggleable__content {max-height: 200px;max-width: 100%;overflow: auto;}#sk-container-id-5 input.sk-toggleable__control:checked~label.sk-toggleable__label-arrow:before {content: \"▾\";}#sk-container-id-5 div.sk-estimator input.sk-toggleable__control:checked~label.sk-toggleable__label {background-color: #d4ebff;}#sk-container-id-5 div.sk-label input.sk-toggleable__control:checked~label.sk-toggleable__label {background-color: #d4ebff;}#sk-container-id-5 input.sk-hidden--visually {border: 0;clip: rect(1px 1px 1px 1px);clip: rect(1px, 1px, 1px, 1px);height: 1px;margin: -1px;overflow: hidden;padding: 0;position: absolute;width: 1px;}#sk-container-id-5 div.sk-estimator {font-family: monospace;background-color: #f0f8ff;border: 1px dotted black;border-radius: 0.25em;box-sizing: border-box;margin-bottom: 0.5em;}#sk-container-id-5 div.sk-estimator:hover {background-color: #d4ebff;}#sk-container-id-5 div.sk-parallel-item::after {content: \"\";width: 100%;border-bottom: 1px solid gray;flex-grow: 1;}#sk-container-id-5 div.sk-label:hover label.sk-toggleable__label {background-color: #d4ebff;}#sk-container-id-5 div.sk-serial::before {content: \"\";position: absolute;border-left: 1px solid gray;box-sizing: border-box;top: 0;bottom: 0;left: 50%;z-index: 0;}#sk-container-id-5 div.sk-serial {display: flex;flex-direction: column;align-items: center;background-color: white;padding-right: 0.2em;padding-left: 0.2em;position: relative;}#sk-container-id-5 div.sk-item {position: relative;z-index: 1;}#sk-container-id-5 div.sk-parallel {display: flex;align-items: stretch;justify-content: center;background-color: white;position: relative;}#sk-container-id-5 div.sk-item::before, #sk-container-id-5 div.sk-parallel-item::before {content: \"\";position: absolute;border-left: 1px solid gray;box-sizing: border-box;top: 0;bottom: 0;left: 50%;z-index: -1;}#sk-container-id-5 div.sk-parallel-item {display: flex;flex-direction: column;z-index: 1;position: relative;background-color: white;}#sk-container-id-5 div.sk-parallel-item:first-child::after {align-self: flex-end;width: 50%;}#sk-container-id-5 div.sk-parallel-item:last-child::after {align-self: flex-start;width: 50%;}#sk-container-id-5 div.sk-parallel-item:only-child::after {width: 0;}#sk-container-id-5 div.sk-dashed-wrapped {border: 1px dashed gray;margin: 0 0.4em 0.5em 0.4em;box-sizing: border-box;padding-bottom: 0.4em;background-color: white;}#sk-container-id-5 div.sk-label label {font-family: monospace;font-weight: bold;display: inline-block;line-height: 1.2em;}#sk-container-id-5 div.sk-label-container {text-align: center;}#sk-container-id-5 div.sk-container {/* jupyter's `normalize.less` sets `[hidden] { display: none; }` but bootstrap.min.css set `[hidden] { display: none !important; }` so we also need the `!important` here to be able to override the default hidden behavior on the sphinx rendered scikit-learn.org. See: https://github.com/scikit-learn/scikit-learn/issues/21755 */display: inline-block !important;position: relative;}#sk-container-id-5 div.sk-text-repr-fallback {display: none;}</style><div id=\"sk-container-id-5\" class=\"sk-top-container\"><div class=\"sk-text-repr-fallback\"><pre>GridSearchCV(cv=5, estimator=KNeighborsClassifier(), n_jobs=1,\n",
       "             param_grid=[{&#x27;n_neighbors&#x27;: [2, 3, 4, 5],\n",
       "                          &#x27;weights&#x27;: [&#x27;uniform&#x27;, &#x27;distance&#x27;]}],\n",
       "             verbose=3)</pre><b>In a Jupyter environment, please rerun this cell to show the HTML representation or trust the notebook. <br />On GitHub, the HTML representation is unable to render, please try loading this page with nbviewer.org.</b></div><div class=\"sk-container\" hidden><div class=\"sk-item sk-dashed-wrapped\"><div class=\"sk-label-container\"><div class=\"sk-label sk-toggleable\"><input class=\"sk-toggleable__control sk-hidden--visually\" id=\"sk-estimator-id-7\" type=\"checkbox\" ><label for=\"sk-estimator-id-7\" class=\"sk-toggleable__label sk-toggleable__label-arrow\">GridSearchCV</label><div class=\"sk-toggleable__content\"><pre>GridSearchCV(cv=5, estimator=KNeighborsClassifier(), n_jobs=1,\n",
       "             param_grid=[{&#x27;n_neighbors&#x27;: [2, 3, 4, 5],\n",
       "                          &#x27;weights&#x27;: [&#x27;uniform&#x27;, &#x27;distance&#x27;]}],\n",
       "             verbose=3)</pre></div></div></div><div class=\"sk-parallel\"><div class=\"sk-parallel-item\"><div class=\"sk-item\"><div class=\"sk-label-container\"><div class=\"sk-label sk-toggleable\"><input class=\"sk-toggleable__control sk-hidden--visually\" id=\"sk-estimator-id-8\" type=\"checkbox\" ><label for=\"sk-estimator-id-8\" class=\"sk-toggleable__label sk-toggleable__label-arrow\">estimator: KNeighborsClassifier</label><div class=\"sk-toggleable__content\"><pre>KNeighborsClassifier()</pre></div></div></div><div class=\"sk-serial\"><div class=\"sk-item\"><div class=\"sk-estimator sk-toggleable\"><input class=\"sk-toggleable__control sk-hidden--visually\" id=\"sk-estimator-id-9\" type=\"checkbox\" ><label for=\"sk-estimator-id-9\" class=\"sk-toggleable__label sk-toggleable__label-arrow\">KNeighborsClassifier</label><div class=\"sk-toggleable__content\"><pre>KNeighborsClassifier()</pre></div></div></div></div></div></div></div></div></div></div>"
      ],
      "text/plain": [
       "GridSearchCV(cv=5, estimator=KNeighborsClassifier(), n_jobs=1,\n",
       "             param_grid=[{'n_neighbors': [2, 3, 4, 5],\n",
       "                          'weights': ['uniform', 'distance']}],\n",
       "             verbose=3)"
      ]
     },
     "execution_count": 162,
     "metadata": {},
     "output_type": "execute_result"
    }
   ],
   "source": [
    "from sklearn.model_selection import GridSearchCV\n",
    "param_grid = [{\"weights\": ['uniform', 'distance'], 'n_neighbors': [2, 3, 4, 5]}]\n",
    "knn_clf = KNeighborsClassifier()\n",
    "grid_search = GridSearchCV(knn_clf, param_grid, cv=5, verbose=3, n_jobs=1)\n",
    "grid_search.fit(X_train_augmented, y_train_augmented)"
   ]
  },
  {
   "cell_type": "code",
   "execution_count": 163,
   "id": "7fa132ef-f4de-48a5-a5dd-a5440f697282",
   "metadata": {},
   "outputs": [
    {
     "data": {
      "text/plain": [
       "0.9778600000000001"
      ]
     },
     "execution_count": 163,
     "metadata": {},
     "output_type": "execute_result"
    }
   ],
   "source": [
    "grid_search.best_score_"
   ]
  },
  {
   "cell_type": "code",
   "execution_count": 164,
   "id": "7bbf8f2a-3602-40ba-a02b-fdfda609e5cb",
   "metadata": {},
   "outputs": [
    {
     "data": {
      "text/plain": [
       "{'n_neighbors': 2, 'weights': 'distance'}"
      ]
     },
     "execution_count": 164,
     "metadata": {},
     "output_type": "execute_result"
    }
   ],
   "source": [
    "grid_search.best_params_"
   ]
  },
  {
   "cell_type": "code",
   "execution_count": 166,
   "id": "9b84e70d-4e81-4bd8-bb99-8b2b13e79fdb",
   "metadata": {},
   "outputs": [
    {
     "data": {
      "text/plain": [
       "0.9726738979028862"
      ]
     },
     "execution_count": 166,
     "metadata": {},
     "output_type": "execute_result"
    }
   ],
   "source": [
    "y_pred_fin = grid_search.predict(X_test)\n",
    "f1_score(y_test, y_pred_fin, average='weighted')"
   ]
  },
  {
   "cell_type": "markdown",
   "id": "b7f0cb3c-55d4-4db3-afc4-e24d21faf8b1",
   "metadata": {},
   "source": [
    "Seems like the performance on the new data is about 97.3%, which is slightly worse than previous example without tuning.  \n",
    "Of course this may vary, however the winner seems to be KNeighbotsClassifier with default values, but gaining more insight could provide some improvements."
   ]
  }
 ],
 "metadata": {
  "kernelspec": {
   "display_name": "Python 3 (ipykernel)",
   "language": "python",
   "name": "python3"
  },
  "language_info": {
   "codemirror_mode": {
    "name": "ipython",
    "version": 3
   },
   "file_extension": ".py",
   "mimetype": "text/x-python",
   "name": "python",
   "nbconvert_exporter": "python",
   "pygments_lexer": "ipython3",
   "version": "3.11.0"
  }
 },
 "nbformat": 4,
 "nbformat_minor": 5
}
